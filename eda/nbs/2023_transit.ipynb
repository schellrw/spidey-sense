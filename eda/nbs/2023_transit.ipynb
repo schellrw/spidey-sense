{
 "cells": [
  {
   "cell_type": "code",
   "execution_count": 11,
   "metadata": {},
   "outputs": [],
   "source": [
    "# Package imports\n",
    "import pandas as pd\n",
    "import re\n",
    "import os\n",
    "from openpyxl import load_workbook\n",
    "# import numpy as np\n",
    "# import streamlit as st\n",
    "# import altair as alt\n",
    "# import matplotlib.pyplot as plt\n",
    "# import seaborn as sns\n",
    "# import plotly.express as px\n",
    "# import plotly.graph_objects as go"
   ]
  },
  {
   "cell_type": "code",
   "execution_count": 20,
   "metadata": {},
   "outputs": [],
   "source": [
    "pathway = os.path.dirname(\"../../src/input/raw/\")\n",
    "\n",
    "# pathway = os.path.dirname(os.getcwd())\n",
    "# pathway = os.path.dirname(pathway)\n",
    "# pathway = os.path.join(pathway, \"src\", \"input\", \"raw\")"
   ]
  },
  {
   "cell_type": "code",
   "execution_count": 2,
   "metadata": {},
   "outputs": [
    {
     "name": "stdout",
     "output_type": "stream",
     "text": [
      "Transit Complaints\n"
     ]
    }
   ],
   "source": [
    "data = pd.read_excel(\"../../src/input/raw/complaints-in-transit-report-cy-2023.xlsx\")"
   ]
  },
  {
   "cell_type": "code",
   "execution_count": 3,
   "metadata": {},
   "outputs": [],
   "source": [
    "# Function to parse crime data from textblob.\n",
    "def parse_crime_data(data):\n",
    "    lines = data.split('\\n')\n",
    "    columns = [\"Transit District\", \"Precinct\", \"Crime Type\", \"Count\"]\n",
    "\n",
    "    rows = []\n",
    "    current_district = None\n",
    "    current_precinct = None\n",
    "\n",
    "    for line in lines:\n",
    "        if line.startswith(\"Transit District\"):\n",
    "            current_district = re.findall(r'\\d+', line)[0]\n",
    "            current_precinct = None\n",
    "        elif line.startswith(\"\\t\"):\n",
    "            if line.strip().isdigit():\n",
    "                current_precinct = line.strip()\n",
    "            else:\n",
    "                crime_type, count = re.findall(r'([A-Z &]+)\\s+(\\d+)', line)[0]\n",
    "                rows.append([current_district, current_precinct, crime_type.strip(), int(count)])\n",
    "\n",
    "    df = pd.DataFrame(rows, columns=columns)\n",
    "    return df"
   ]
  },
  {
   "cell_type": "code",
   "execution_count": 22,
   "metadata": {},
   "outputs": [],
   "source": [
    "# Function to parse crime data from excel.\n",
    "def parse_crime_data_excel(filename):\n",
    "    wb = load_workbook(filename=filename, rich_text=True, data_only=True)\n",
    "    ws = wb.active\n",
    "\n",
    "    columns = [\"Transit District\", \"Precinct\", \"Crime Type\", \"Count\"]\n",
    "    rows = []\n",
    "\n",
    "    current_district = None\n",
    "    current_precinct = None\n",
    "\n",
    "    for row in ws.iter_rows():   #(values_only=True):\n",
    "        for cell in row:\n",
    "            if isinstance(cell, str) and cell.startswith(\"Transit District\"):\n",
    "                current_district = re.findall(r'\\d+', cell)[0]\n",
    "                current_precinct = None\n",
    "            elif isinstance(cell, str) and cell.startswith(\"\\t\"):\n",
    "                if cell.strip().isdigit():\n",
    "                    current_precinct = cell.strip()\n",
    "                else:\n",
    "                    crime_type, count = re.findall(r'([A-Z &]+)\\s+(\\d+)', cell)[0]\n",
    "                    rows.append([current_district, current_precinct, crime_type.strip(), int(count)])\n",
    "\n",
    "    df = pd.DataFrame(rows, columns=columns)\n",
    "    return df"
   ]
  },
  {
   "cell_type": "code",
   "execution_count": 24,
   "metadata": {},
   "outputs": [
    {
     "name": "stdout",
     "output_type": "stream",
     "text": [
      "../../src/input/raw/complaints-in-transit-report-cy-2023.xlsx\n"
     ]
    }
   ],
   "source": [
    "print(pathway + \"/complaints-in-transit-report-cy-2023.xlsx\")"
   ]
  },
  {
   "cell_type": "code",
   "execution_count": 23,
   "metadata": {},
   "outputs": [
    {
     "name": "stdout",
     "output_type": "stream",
     "text": [
      "Transit Complaints\n",
      "Empty DataFrame\n",
      "Columns: [Transit District, Precinct, Crime Type, Count]\n",
      "Index: []\n"
     ]
    }
   ],
   "source": [
    "# Example usage:\n",
    "df = parse_crime_data_excel(pathway + \"/complaints-in-transit-report-cy-2023.xlsx\")\n",
    "print(df)"
   ]
  },
  {
   "cell_type": "code",
   "execution_count": 10,
   "metadata": {},
   "outputs": [
    {
     "name": "stdout",
     "output_type": "stream",
     "text": [
      "<class 'pandas.core.frame.DataFrame'>\n",
      "Index: 0 entries\n",
      "Data columns (total 4 columns):\n",
      " #   Column            Non-Null Count  Dtype \n",
      "---  ------            --------------  ----- \n",
      " 0   Transit District  0 non-null      object\n",
      " 1   Precinct          0 non-null      object\n",
      " 2   Crime Type        0 non-null      object\n",
      " 3   Count             0 non-null      object\n",
      "dtypes: object(4)\n",
      "memory usage: 0.0+ bytes\n"
     ]
    }
   ],
   "source": [
    "df.info()"
   ]
  },
  {
   "cell_type": "code",
   "execution_count": 2,
   "metadata": {},
   "outputs": [
    {
     "name": "stdout",
     "output_type": "stream",
     "text": [
      "Transit Complaints\n",
      "<class 'pandas.core.frame.DataFrame'>\n",
      "RangeIndex: 830 entries, 0 to 829\n",
      "Data columns (total 2 columns):\n",
      " #   Column                                                              Non-Null Count  Dtype \n",
      "---  ------                                                              --------------  ----- \n",
      " 0   Complaints for Offenses Described in Administrative Code 14-150(d)  828 non-null    object\n",
      " 1   Unnamed: 1                                                          719 non-null    object\n",
      "dtypes: object(2)\n",
      "memory usage: 13.1+ KB\n"
     ]
    }
   ],
   "source": [
    "# df = pd.read_excel(\"../../src/input/raw/complaints-in-transit-report-cy-2023.xlsx\", header=0)\n",
    "df.info()"
   ]
  },
  {
   "cell_type": "code",
   "execution_count": null,
   "metadata": {},
   "outputs": [],
   "source": []
  }
 ],
 "metadata": {
  "kernelspec": {
   "display_name": "Python 3",
   "language": "python",
   "name": "python3"
  },
  "language_info": {
   "codemirror_mode": {
    "name": "ipython",
    "version": 3
   },
   "file_extension": ".py",
   "mimetype": "text/x-python",
   "name": "python",
   "nbconvert_exporter": "python",
   "pygments_lexer": "ipython3",
   "version": "3.10.6"
  }
 },
 "nbformat": 4,
 "nbformat_minor": 2
}
